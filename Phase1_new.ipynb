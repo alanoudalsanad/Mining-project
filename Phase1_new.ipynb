{
  "cells": [
    {
      "cell_type": "markdown",
      "metadata": {
        "colab_type": "text",
        "id": "view-in-github"
      },
      "source": [
        "<a href=\"https://colab.research.google.com/github/alanoudalsanad/Mining-project/blob/main/Phase1_new.ipynb\" target=\"_parent\"><img src=\"https://colab.research.google.com/assets/colab-badge.svg\" alt=\"Open In Colab\"/></a>"
      ]
    },
    {
      "cell_type": "markdown",
      "metadata": {},
      "source": [
        "# **Phase 1:** Test with GUI steps\n",
        "\n",
        "# Project Goal:\n",
        "The goal of this project is to use the Diabetes Health Dataset to explore key factors that influence diabetes and to build a simple predictive model that can help identify whether a person is likely to have diabetes.\n",
        "\n",
        "# Dataset Source:\n",
        "The dataset was obtained from Kaggle. Link: https://www.kaggle.com/datasets/rabieelkharoua/diabetes-health-dataset-analysis"
      ]
    },
    {
      "cell_type": "code",
      "execution_count": 16,
      "metadata": {
        "id": "gfRlHOJu9Uvv"
      },
      "outputs": [],
      "source": [
        "import pandas as pd"
      ]
    },
    {
      "cell_type": "code",
      "execution_count": 17,
      "metadata": {
        "colab": {
          "base_uri": "https://localhost:8080/",
          "height": 255
        },
        "id": "pyXRzy0D_wU7",
        "outputId": "081cb9be-4b6d-4287-a108-96c80f23219a"
      },
      "outputs": [
        {
          "data": {
            "text/html": [
              "<div>\n",
              "<style scoped>\n",
              "    .dataframe tbody tr th:only-of-type {\n",
              "        vertical-align: middle;\n",
              "    }\n",
              "\n",
              "    .dataframe tbody tr th {\n",
              "        vertical-align: top;\n",
              "    }\n",
              "\n",
              "    .dataframe thead th {\n",
              "        text-align: right;\n",
              "    }\n",
              "</style>\n",
              "<table border=\"1\" class=\"dataframe\">\n",
              "  <thead>\n",
              "    <tr style=\"text-align: right;\">\n",
              "      <th></th>\n",
              "      <th>PatientID</th>\n",
              "      <th>Age</th>\n",
              "      <th>Gender</th>\n",
              "      <th>Ethnicity</th>\n",
              "      <th>SocioeconomicStatus</th>\n",
              "      <th>EducationLevel</th>\n",
              "      <th>BMI</th>\n",
              "      <th>Smoking</th>\n",
              "      <th>AlcoholConsumption</th>\n",
              "      <th>PhysicalActivity</th>\n",
              "      <th>...</th>\n",
              "      <th>TinglingHandsFeet</th>\n",
              "      <th>QualityOfLifeScore</th>\n",
              "      <th>HeavyMetalsExposure</th>\n",
              "      <th>OccupationalExposureChemicals</th>\n",
              "      <th>WaterQuality</th>\n",
              "      <th>MedicalCheckupsFrequency</th>\n",
              "      <th>MedicationAdherence</th>\n",
              "      <th>HealthLiteracy</th>\n",
              "      <th>Diagnosis</th>\n",
              "      <th>DoctorInCharge</th>\n",
              "    </tr>\n",
              "  </thead>\n",
              "  <tbody>\n",
              "    <tr>\n",
              "      <th>0</th>\n",
              "      <td>6000</td>\n",
              "      <td>44</td>\n",
              "      <td>0</td>\n",
              "      <td>1</td>\n",
              "      <td>2</td>\n",
              "      <td>1</td>\n",
              "      <td>32.985284</td>\n",
              "      <td>1</td>\n",
              "      <td>4.499365</td>\n",
              "      <td>2.443385</td>\n",
              "      <td>...</td>\n",
              "      <td>1</td>\n",
              "      <td>73.765109</td>\n",
              "      <td>0</td>\n",
              "      <td>0</td>\n",
              "      <td>0</td>\n",
              "      <td>1.782724</td>\n",
              "      <td>4.486980</td>\n",
              "      <td>7.211349</td>\n",
              "      <td>1</td>\n",
              "      <td>Confidential</td>\n",
              "    </tr>\n",
              "    <tr>\n",
              "      <th>1</th>\n",
              "      <td>6001</td>\n",
              "      <td>51</td>\n",
              "      <td>1</td>\n",
              "      <td>0</td>\n",
              "      <td>1</td>\n",
              "      <td>2</td>\n",
              "      <td>39.916764</td>\n",
              "      <td>0</td>\n",
              "      <td>1.578919</td>\n",
              "      <td>8.301264</td>\n",
              "      <td>...</td>\n",
              "      <td>0</td>\n",
              "      <td>91.445753</td>\n",
              "      <td>0</td>\n",
              "      <td>0</td>\n",
              "      <td>1</td>\n",
              "      <td>3.381070</td>\n",
              "      <td>5.961705</td>\n",
              "      <td>5.024612</td>\n",
              "      <td>1</td>\n",
              "      <td>Confidential</td>\n",
              "    </tr>\n",
              "    <tr>\n",
              "      <th>2</th>\n",
              "      <td>6002</td>\n",
              "      <td>89</td>\n",
              "      <td>1</td>\n",
              "      <td>0</td>\n",
              "      <td>1</td>\n",
              "      <td>3</td>\n",
              "      <td>19.782251</td>\n",
              "      <td>0</td>\n",
              "      <td>1.177301</td>\n",
              "      <td>6.103395</td>\n",
              "      <td>...</td>\n",
              "      <td>0</td>\n",
              "      <td>54.485744</td>\n",
              "      <td>0</td>\n",
              "      <td>0</td>\n",
              "      <td>0</td>\n",
              "      <td>2.701019</td>\n",
              "      <td>8.950821</td>\n",
              "      <td>7.034944</td>\n",
              "      <td>0</td>\n",
              "      <td>Confidential</td>\n",
              "    </tr>\n",
              "    <tr>\n",
              "      <th>3</th>\n",
              "      <td>6003</td>\n",
              "      <td>21</td>\n",
              "      <td>1</td>\n",
              "      <td>1</td>\n",
              "      <td>1</td>\n",
              "      <td>2</td>\n",
              "      <td>32.376881</td>\n",
              "      <td>1</td>\n",
              "      <td>1.714621</td>\n",
              "      <td>8.645465</td>\n",
              "      <td>...</td>\n",
              "      <td>0</td>\n",
              "      <td>77.866758</td>\n",
              "      <td>0</td>\n",
              "      <td>0</td>\n",
              "      <td>1</td>\n",
              "      <td>1.409056</td>\n",
              "      <td>3.124769</td>\n",
              "      <td>4.717774</td>\n",
              "      <td>0</td>\n",
              "      <td>Confidential</td>\n",
              "    </tr>\n",
              "    <tr>\n",
              "      <th>4</th>\n",
              "      <td>6004</td>\n",
              "      <td>27</td>\n",
              "      <td>1</td>\n",
              "      <td>0</td>\n",
              "      <td>1</td>\n",
              "      <td>3</td>\n",
              "      <td>16.808600</td>\n",
              "      <td>0</td>\n",
              "      <td>15.462549</td>\n",
              "      <td>4.629383</td>\n",
              "      <td>...</td>\n",
              "      <td>0</td>\n",
              "      <td>37.731808</td>\n",
              "      <td>0</td>\n",
              "      <td>0</td>\n",
              "      <td>0</td>\n",
              "      <td>1.218452</td>\n",
              "      <td>6.977741</td>\n",
              "      <td>7.887940</td>\n",
              "      <td>0</td>\n",
              "      <td>Confidential</td>\n",
              "    </tr>\n",
              "  </tbody>\n",
              "</table>\n",
              "<p>5 rows × 46 columns</p>\n",
              "</div>"
            ],
            "text/plain": [
              "   PatientID  Age  Gender  Ethnicity  SocioeconomicStatus  EducationLevel  \\\n",
              "0       6000   44       0          1                    2               1   \n",
              "1       6001   51       1          0                    1               2   \n",
              "2       6002   89       1          0                    1               3   \n",
              "3       6003   21       1          1                    1               2   \n",
              "4       6004   27       1          0                    1               3   \n",
              "\n",
              "         BMI  Smoking  AlcoholConsumption  PhysicalActivity  ...  \\\n",
              "0  32.985284        1            4.499365          2.443385  ...   \n",
              "1  39.916764        0            1.578919          8.301264  ...   \n",
              "2  19.782251        0            1.177301          6.103395  ...   \n",
              "3  32.376881        1            1.714621          8.645465  ...   \n",
              "4  16.808600        0           15.462549          4.629383  ...   \n",
              "\n",
              "   TinglingHandsFeet  QualityOfLifeScore  HeavyMetalsExposure  \\\n",
              "0                  1           73.765109                    0   \n",
              "1                  0           91.445753                    0   \n",
              "2                  0           54.485744                    0   \n",
              "3                  0           77.866758                    0   \n",
              "4                  0           37.731808                    0   \n",
              "\n",
              "   OccupationalExposureChemicals  WaterQuality  MedicalCheckupsFrequency  \\\n",
              "0                              0             0                  1.782724   \n",
              "1                              0             1                  3.381070   \n",
              "2                              0             0                  2.701019   \n",
              "3                              0             1                  1.409056   \n",
              "4                              0             0                  1.218452   \n",
              "\n",
              "   MedicationAdherence  HealthLiteracy  Diagnosis  DoctorInCharge  \n",
              "0             4.486980        7.211349          1    Confidential  \n",
              "1             5.961705        5.024612          1    Confidential  \n",
              "2             8.950821        7.034944          0    Confidential  \n",
              "3             3.124769        4.717774          0    Confidential  \n",
              "4             6.977741        7.887940          0    Confidential  \n",
              "\n",
              "[5 rows x 46 columns]"
            ]
          },
          "execution_count": 17,
          "metadata": {},
          "output_type": "execute_result"
        }
      ],
      "source": [
        "df = pd.read_csv(\"Dataset/Raw_dataset.csv\")\n",
        "df.head()"
      ]
    },
    {
      "cell_type": "markdown",
      "metadata": {},
      "source": [
        "# Dataset Description:\n",
        "This dataset contains comprehensive health data for 1,879 patients, uniquely identified with IDs ranging from 6000 to 7878.The data includes demographic details, lifestyle factors, medical history, clinical measurements, medication usage, symptoms, quality of life scores, environmental exposures, and health behaviors.\n",
        "\n",
        "# Dataset Information:\n",
        "\n",
        "*   Number and data types of attributes (features)= 46 attribute.\n",
        "\n",
        "*   Number of objects (instances/records) = 1879 record.\n",
        "\n",
        "*   Class attribute: Diagnosis"
      ]
    },
    {
      "cell_type": "code",
      "execution_count": 18,
      "metadata": {
        "colab": {
          "base_uri": "https://localhost:8080/"
        },
        "id": "Z4M4kZCa_uyI",
        "outputId": "e1456544-0948-44a1-e12a-d3483fa27c65"
      },
      "outputs": [
        {
          "name": "stdout",
          "output_type": "stream",
          "text": [
            "Class values: [1 0]\n"
          ]
        }
      ],
      "source": [
        "print(\"Class values:\", df['Diagnosis'].unique())"
      ]
    },
    {
      "cell_type": "code",
      "execution_count": 19,
      "metadata": {
        "colab": {
          "base_uri": "https://localhost:8080/"
        },
        "id": "7D86Ykwn_6q5",
        "outputId": "182f9145-9c98-4776-e796-c078218b5fef"
      },
      "outputs": [
        {
          "name": "stdout",
          "output_type": "stream",
          "text": [
            "Counts per class:\n",
            "Diagnosis\n",
            "0    1127\n",
            "1     752\n",
            "Name: count, dtype: int64\n"
          ]
        }
      ],
      "source": [
        "print(\"Counts per class:\")\n",
        "print(df['Diagnosis'].value_counts())"
      ]
    }
  ],
  "metadata": {
    "colab": {
      "authorship_tag": "ABX9TyM84pCZxLjk/nzJdqwjKVp1",
      "include_colab_link": true,
      "provenance": [],
      "toc_visible": true
    },
    "kernelspec": {
      "display_name": "Python 3",
      "name": "python3"
    },
    "language_info": {
      "codemirror_mode": {
        "name": "ipython",
        "version": 3
      },
      "file_extension": ".py",
      "mimetype": "text/x-python",
      "name": "python",
      "nbconvert_exporter": "python",
      "pygments_lexer": "ipython3",
      "version": "3.12.1"
    }
  },
  "nbformat": 4,
  "nbformat_minor": 0
}
